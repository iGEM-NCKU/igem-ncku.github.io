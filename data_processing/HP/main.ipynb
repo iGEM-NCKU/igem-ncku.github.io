{
 "cells": [
  {
   "cell_type": "code",
   "execution_count": 2,
   "id": "44aff4b2",
   "metadata": {},
   "outputs": [],
   "source": [
    "from core.general import *"
   ]
  },
  {
   "cell_type": "code",
   "execution_count": 3,
   "id": "20460321",
   "metadata": {},
   "outputs": [
    {
     "name": "stdout",
     "output_type": "stream",
     "text": [
      "\u001b[1m\u001b[96mINFO\u001b[0m  # Overview\n",
      "The NCKU-Tainan 2025 iGEM team is proud to present *Byefilm*, a project designed to address the critical issue of periprosthetic joint infections (PJI) without resorting to invasive surgery. Our innovative approach uses engineered *Staphylococcus aureus* bacteria as a delivery system for enzymes that break down biofilms in infected joints. **Through precise thermal control, the bacteria activate only when needed, ensuring targeted and safe treatment.** From the outset, we placed a great emphasis on **Human Practices** to ensure that our work not only advanced science but also made a meaningful impact on society.\n",
      "*Byefilm* began with an essential question: **Could our technology really make a difference in the clinic?** To answer this, we consulted orthopedic surgeons specializing in total knee arthroplasty, who confirmed that while PJIs are rare, they are devastating for both patients and healthcare professionals. This validation reaffirmed our belief in the potential clinical impact of our project and guided the development of our solution.\n",
      "However, medicine is not only about what happens in the lab or the operating room — it is also deeply connected to society. To align our work with real-world concerns, we engaged with the public through surveys and interviews, uncovering a significant knowledge gap about biofilms and biotechnology. Concerns about the safety of using genetically engineered bacteria for medical purposes were widespread, prompting us to consult with infectious disease experts and biosafety professionals. These crucial **Human Practices** insights were instrumental in refining the safety aspects of our project, ensuring it was both innovative and responsible. Please see our **Integrated Human Practices** section for more detailed information.\n",
      "As we continued to refine our design, we also placed a strong focus on educating the public about biofilms and synthetic biology. We organized **workshops for high school students, created informative social media content, and even developed an educational game**, all aimed at breaking down complex scientific topics and making them more accessible. We are thrilled by the positive response, with our educational efforts reaching over **1,500 people worldwide**. For more details, please refer to our **Education** section.\n",
      "The journey of *Byefilm* has shown us that science is not just about discovery but about creating a positive impact on both individuals and society. By listening to the needs of doctors, patients, and the public, we’ve developed a solution that balances innovation with responsibility, ensuring that our work has the potential to heal, educate, and inspire.\n",
      "# Integrated Human Practice\n",
      "Human Practices has been integral to shaping *Byefilm*, influencing not only our scientific approach but also our project’s real-world impact. By engaging with stakeholders across various sectors, including orthopedic surgeons, infectious disease experts, and biosafety professionals, we optimized our design to ensure it was feasible, safe, and aligned with clinical and societal needs. Early consultations with healthcare professionals confirmed the clinical value of our project, while public surveys revealed a significant knowledge gap about biofilms and biotechnology, guiding us to focus on education and safety. This engagement allowed us to refine our solution, ensuring it addressed not just technical challenges but also public and ethical concerns.\n",
      "Throughout our journey, we applied a structured approach to **Human Practices**, primarily focusing on the core values emphasized by the iGEM Judging Handbook: **Reflection**, **Responsibility**, and **Implementation**. We continuously **reflected** on our design and assumptions, using tools such as the **Reflection Loop** to assess feedback and make iterative improvements. By doing so, we ensured that our project was not only scientifically robust but also adaptable to the evolving needs of stakeholders. We also took **responsibility** for the ethical implications of our technology, addressing concerns about the use of genetically modified bacteria through in-depth discussions with biosafety experts and ethicists. Finally, we focused on the **implementation** of our solution by translating our insights into actionable steps, such as the development of educational outreach programs to address public misconceptions about biotechnology. By integrating these three principles into our project, *Byefilm* evolved into a solution that not only tackles a critical medical issue but also considers its broader societal implications, making it both a scientifically innovative and socially responsible project.\n",
      "# Education\n",
      "Through our surveys and questionnaires, we uncovered a significant gap in the public’s understanding of biofilms, biotechnology, and synthetic biology. This insight led us to make it a priority to **break down the barriers that prevent people from accessing cutting-edge knowledge in these fields**. We realized that many individuals, from high school students to adults, lacked even basic awareness about biofilms and their impact on healthcare, and this knowledge gap needed to be addressed.\n",
      "To close this gap, we organized a c**omprehensive educational workshop aimed at high school students**. This workshop was designed to provide students with an in-depth understanding of biofilms, synthetic biology, and their real-world applications, ensuring that the content was accessible and engaging. At the conclusion of the workshop, we **gathered valuable feedback** from the participants to refine and improve our educational approach. We also sought additional insights to enhance the effectiveness of future educational initiatives. Our goal is not only to share knowledge but to **create a more informed society**, empowering the next generation to engage with and contribute to the advancements in synthetic biology.\n",
      "# Connecting with iGEMers\n",
      "We understood that achieving meaningful impact would not be possible on our own. That’s why we placed a strong emphasis on **outreach** and **networking**, recognizing that by connecting with others, we could amplify the reach of our project and create greater value. By engaging with fellow iGEMers, we not only shared our ideas but also supported others in their journey, helping to spread knowledge and inspire a broader collective effort in advancing biotechnology.\n",
      "# Entrepreneurship\n",
      "Our project doesn’t stop at the laboratory bench. While we have focused on engineering bacteria capable of producing enzymes that break down stubborn biofilms, we understand that true impact comes when technology can be transformed into something that reaches people’s lives. To bring our solution closer to clinical and commercial reality, we began exploring the feasibility of product development — from safety design to delivery strategy and scalability.\n",
      "To take this vision a step further, we joined NCKU’s **Dream Come True Innovation Program**, where we started to translate our scientific findings into potential real-world products. We imagine a future where our system can evolve into **a customizable enzyme formulation** or **a smart injection kit** that works alongside antibiotics to treat implant-related infections safely and effectively — reducing surgery risks, shortening recovery time, and empowering hospitals with a new, low-invasive option.\n",
      "# Fundraising\n",
      "Throughout our journey, we experienced firsthand how challenging the fundraising process can be.\n",
      "From reaching out to sponsors and applying for grants to organizing crowdfunding campaigns, we learned that\n",
      "**not every iGEM team begins with enough financial support to cover all competition expenses**\n",
      "This experience taught us the importance of persistence, communication, and creativity in securing resources.\n",
      "We hope to share our fundraising journey and insights to\n",
      "> **help future iGEM teams navigate this process more smoothly,** empowering more students to bring their ideas to life and represent their universities on the global stage.\n"
     ]
    }
   ],
   "source": [
    "template = '\\n'.join([i.strip() for i in read_from_file('HP.md').replace('---', '').split('\\n') if not i.strip() == ''])\n",
    "\n",
    "info(template)"
   ]
  },
  {
   "cell_type": "code",
   "execution_count": 4,
   "id": "19fe0d8f",
   "metadata": {},
   "outputs": [],
   "source": [
    "def fold_if(x, check, concat = False) -> list:\n",
    "    ans = []\n",
    "    for i in x:\n",
    "        if check(i):\n",
    "            ans.append([i, []])\n",
    "        else:\n",
    "            if len(ans) == 0:\n",
    "                continue\n",
    "            ans[-1][1].append(i)\n",
    "    if concat:\n",
    "        ans = [[i[0], '\\n'.join(i[1])] for i in ans]\n",
    "    return ans"
   ]
  },
  {
   "cell_type": "code",
   "execution_count": 5,
   "id": "49e08b16",
   "metadata": {},
   "outputs": [],
   "source": [
    "def md2html(x: str) -> str:\n",
    "    tmp = x.split('**')\n",
    "    ans = tmp[0]\n",
    "    o = False\n",
    "    for i in tmp[1:]:\n",
    "        if not o:\n",
    "            ans = f'{ans}<b>{i}'\n",
    "        else:\n",
    "            ans = f'{ans}</b>{i}'\n",
    "        o = not o\n",
    "    return ans\n",
    "\n",
    "def md3html(x: str) -> str:\n",
    "    tmp = x.split('*')\n",
    "    ans = tmp[0]\n",
    "    o = False\n",
    "    for i in tmp[1:]:\n",
    "        if not o:\n",
    "            ans = f'{ans}<i>{i}'\n",
    "        else:\n",
    "            ans = f'{ans}</i>{i}'\n",
    "        o = not o\n",
    "    return ans\n",
    "\n",
    "template = md3html(md2html(template))"
   ]
  },
  {
   "cell_type": "code",
   "execution_count": 6,
   "id": "7674596b",
   "metadata": {},
   "outputs": [
    {
     "data": {
      "text/plain": [
       "[{'title': 'Overview',\n",
       "  'text': 'The NCKU-Tainan 2025 iGEM team is proud to present <i>Byefilm</i>, a project designed to address the critical issue of periprosthetic joint infections (PJI) without resorting to invasive surgery. Our innovative approach uses engineered <i>Staphylococcus aureus</i> bacteria as a delivery system for enzymes that break down biofilms in infected joints. <b>Through precise thermal control, the bacteria activate only when needed, ensuring targeted and safe treatment.</b> From the outset, we placed a great emphasis on <b>Human Practices</b> to ensure that our work not only advanced science but also made a meaningful impact on society.<br><i>Byefilm</i> began with an essential question: <b>Could our technology really make a difference in the clinic?</b> To answer this, we consulted orthopedic surgeons specializing in total knee arthroplasty, who confirmed that while PJIs are rare, they are devastating for both patients and healthcare professionals. This validation reaffirmed our belief in the potential clinical impact of our project and guided the development of our solution.<br>However, medicine is not only about what happens in the lab or the operating room — it is also deeply connected to society. To align our work with real-world concerns, we engaged with the public through surveys and interviews, uncovering a significant knowledge gap about biofilms and biotechnology. Concerns about the safety of using genetically engineered bacteria for medical purposes were widespread, prompting us to consult with infectious disease experts and biosafety professionals. These crucial <b>Human Practices</b> insights were instrumental in refining the safety aspects of our project, ensuring it was both innovative and responsible. Please see our <b>Integrated Human Practices</b> section for more detailed information.<br>As we continued to refine our design, we also placed a strong focus on educating the public about biofilms and synthetic biology. We organized <b>workshops for high school students, created informative social media content, and even developed an educational game</b>, all aimed at breaking down complex scientific topics and making them more accessible. We are thrilled by the positive response, with our educational efforts reaching over <b>1,500 people worldwide</b>. For more details, please refer to our <b>Education</b> section.<br>The journey of <i>Byefilm</i> has shown us that science is not just about discovery but about creating a positive impact on both individuals and society. By listening to the needs of doctors, patients, and the public, we’ve developed a solution that balances innovation with responsibility, ensuring that our work has the potential to heal, educate, and inspire.',\n",
       "  'quote': ''},\n",
       " {'title': 'Integrated Human Practice',\n",
       "  'text': 'Human Practices has been integral to shaping <i>Byefilm</i>, influencing not only our scientific approach but also our project’s real-world impact. By engaging with stakeholders across various sectors, including orthopedic surgeons, infectious disease experts, and biosafety professionals, we optimized our design to ensure it was feasible, safe, and aligned with clinical and societal needs. Early consultations with healthcare professionals confirmed the clinical value of our project, while public surveys revealed a significant knowledge gap about biofilms and biotechnology, guiding us to focus on education and safety. This engagement allowed us to refine our solution, ensuring it addressed not just technical challenges but also public and ethical concerns.<br>Throughout our journey, we applied a structured approach to <b>Human Practices</b>, primarily focusing on the core values emphasized by the iGEM Judging Handbook: <b>Reflection</b>, <b>Responsibility</b>, and <b>Implementation</b>. We continuously <b>reflected</b> on our design and assumptions, using tools such as the <b>Reflection Loop</b> to assess feedback and make iterative improvements. By doing so, we ensured that our project was not only scientifically robust but also adaptable to the evolving needs of stakeholders. We also took <b>responsibility</b> for the ethical implications of our technology, addressing concerns about the use of genetically modified bacteria through in-depth discussions with biosafety experts and ethicists. Finally, we focused on the <b>implementation</b> of our solution by translating our insights into actionable steps, such as the development of educational outreach programs to address public misconceptions about biotechnology. By integrating these three principles into our project, <i>Byefilm</i> evolved into a solution that not only tackles a critical medical issue but also considers its broader societal implications, making it both a scientifically innovative and socially responsible project.',\n",
       "  'quote': ''},\n",
       " {'title': 'Education',\n",
       "  'text': 'Through our surveys and questionnaires, we uncovered a significant gap in the public’s understanding of biofilms, biotechnology, and synthetic biology. This insight led us to make it a priority to <b>break down the barriers that prevent people from accessing cutting-edge knowledge in these fields</b>. We realized that many individuals, from high school students to adults, lacked even basic awareness about biofilms and their impact on healthcare, and this knowledge gap needed to be addressed.<br>To close this gap, we organized a c<b>omprehensive educational workshop aimed at high school students</b>. This workshop was designed to provide students with an in-depth understanding of biofilms, synthetic biology, and their real-world applications, ensuring that the content was accessible and engaging. At the conclusion of the workshop, we <b>gathered valuable feedback</b> from the participants to refine and improve our educational approach. We also sought additional insights to enhance the effectiveness of future educational initiatives. Our goal is not only to share knowledge but to <b>create a more informed society</b>, empowering the next generation to engage with and contribute to the advancements in synthetic biology.',\n",
       "  'quote': ''},\n",
       " {'title': 'Connecting with iGEMers',\n",
       "  'text': 'We understood that achieving meaningful impact would not be possible on our own. That’s why we placed a strong emphasis on <b>outreach</b> and <b>networking</b>, recognizing that by connecting with others, we could amplify the reach of our project and create greater value. By engaging with fellow iGEMers, we not only shared our ideas but also supported others in their journey, helping to spread knowledge and inspire a broader collective effort in advancing biotechnology.',\n",
       "  'quote': ''},\n",
       " {'title': 'Entrepreneurship',\n",
       "  'text': 'Our project doesn’t stop at the laboratory bench. While we have focused on engineering bacteria capable of producing enzymes that break down stubborn biofilms, we understand that true impact comes when technology can be transformed into something that reaches people’s lives. To bring our solution closer to clinical and commercial reality, we began exploring the feasibility of product development — from safety design to delivery strategy and scalability.<br>To take this vision a step further, we joined NCKU’s\\xa0<b>Dream Come True Innovation Program</b>, where we started to translate our scientific findings into potential real-world products. We imagine a future where our system can evolve into\\xa0<b>a customizable enzyme formulation</b>\\xa0or\\xa0<b>a smart injection kit</b>\\xa0that works alongside antibiotics to treat implant-related infections safely and effectively — reducing surgery risks, shortening recovery time, and empowering hospitals with a new, low-invasive option.',\n",
       "  'quote': ''},\n",
       " {'title': 'Fundraising',\n",
       "  'text': 'Throughout our journey, we experienced firsthand how challenging the fundraising process can be.<br>From reaching out to sponsors and applying for grants to organizing crowdfunding campaigns, we learned that<br><b>not every iGEM team begins with enough financial support to cover all competition expenses</b><br>This experience taught us the importance of persistence, communication, and creativity in securing resources.<br>We hope to share our fundraising journey and insights to',\n",
       "  'quote': '<b>help future iGEM teams navigate this process more smoothly,</b> empowering more students to bring their ideas to life and represent their universities on the global stage.'}]"
      ]
     },
     "execution_count": 6,
     "metadata": {},
     "output_type": "execute_result"
    }
   ],
   "source": [
    "f = [*map(lambda x: {'title': x[0][2:], 'text': '<br>'.join([j for j in x[1] if not j.startswith('> ')]), 'quote': '<br>'.join([j[2:] for j in x[1] if j.startswith('> ')])}, fold_if(template.split('\\n'), lambda x: x.startswith('# '), concat = False))]\n",
    "\n",
    "f"
   ]
  },
  {
   "cell_type": "code",
   "execution_count": 80,
   "id": "3c4b053d",
   "metadata": {},
   "outputs": [],
   "source": [
    "import pyperclip as pp\n",
    "\n",
    "pp.copy(str(f))"
   ]
  },
  {
   "cell_type": "code",
   "execution_count": null,
   "id": "0db0d306",
   "metadata": {},
   "outputs": [
    {
     "name": "stdout",
     "output_type": "stream",
     "text": [
      "{'name': 'hp_overview', 'icon': None}\n",
      "{'name': 'hp_integrated-human-practice', 'icon': None}\n",
      "{'name': 'hp_education', 'icon': None}\n",
      "{'name': 'hp_connecting-with-igemers', 'icon': None}\n",
      "{'name': 'hp_entrepreneurship', 'icon': None}\n",
      "{'name': 'hp_fundraising', 'icon': None}\n"
     ]
    }
   ],
   "source": [
    "for i in [*map(lambda x: 'hp_' + x['title'].lower().replace(' ', '-'), f)]:\n",
    "    print({\n",
    "        'name': i,\n",
    "        'icon': None\n",
    "    }, end = ',')"
   ]
  },
  {
   "cell_type": "code",
   "execution_count": 60,
   "id": "b0c34e82",
   "metadata": {},
   "outputs": [],
   "source": [
    "for i in [*map(lambda x: 'hp_' + x['title'].lower().replace(' ', '-'), f)]:\n",
    "    mkdir(pwd() + f'/../../src/hp/{i[3:]}/')"
   ]
  },
  {
   "cell_type": "code",
   "execution_count": 63,
   "id": "3d2d251e",
   "metadata": {},
   "outputs": [],
   "source": [
    "now = read_from_file('../../src/hp/main.js')\n",
    "\n",
    "for i in [*map(lambda x: 'hp_' + x['title'].lower().replace(' ', '-'), f)]:\n",
    "    write_to_file(pwd() + f'/../../src/hp/{i[3:]}/main.js', now)"
   ]
  },
  {
   "cell_type": "code",
   "execution_count": 83,
   "id": "c55e7a1e",
   "metadata": {},
   "outputs": [],
   "source": [
    "now = read_from_file('../../src/hp/template.vue')\n",
    "\n",
    "for i in [*map(lambda x: 'hp_' + x['title'].lower().replace(' ', '-'), f)]:\n",
    "    write_to_file(pwd() + f'/../../src/hp/{i[3:]}/App.vue', now.replace('<name>', i[3:].replace('-', ' ').title()))"
   ]
  }
 ],
 "metadata": {
  "kernelspec": {
   "display_name": "analysis",
   "language": "python",
   "name": "python3"
  },
  "language_info": {
   "codemirror_mode": {
    "name": "ipython",
    "version": 3
   },
   "file_extension": ".py",
   "mimetype": "text/x-python",
   "name": "python",
   "nbconvert_exporter": "python",
   "pygments_lexer": "ipython3",
   "version": "3.12.7"
  }
 },
 "nbformat": 4,
 "nbformat_minor": 5
}
